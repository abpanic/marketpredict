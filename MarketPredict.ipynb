{
 "cells": [
  {
   "cell_type": "markdown",
   "id": "137b2cc1",
   "metadata": {},
   "source": [
    "# 1. Title & objective\n",
    "# Monsoon & Macro – Midcap Forecasting\n",
    "\n",
    "Starter notebook for Data Analytics Capstone.\n",
    "\n",
    "**Objective:** Build an end-to-end pipeline that merges rainfall anomaly + macro drivers and predicts next-quarter *excess* return of the NIFTY Midcap 100.\n",
    "\n",
    "> **Tip:** fill in download paths or API calls where you see `TODO:`. Run each section sequentially."
   ]
  },
  {
   "cell_type": "code",
   "execution_count": 1,
   "id": "ac1ee5a0",
   "metadata": {},
   "outputs": [
    {
     "name": "stdout",
     "output_type": "stream",
     "text": [
      "Defaulting to user installation because normal site-packages is not writeable\n"
     ]
    },
    {
     "name": "stderr",
     "output_type": "stream",
     "text": [
      "ERROR: Invalid requirement: 'pandas,': Expected end or semicolon (after name and no valid version specifier)\n",
      "    pandas,\n",
      "          ^\n"
     ]
    }
   ],
   "source": [
    "! pip install pandas, numpy, json, requests"
   ]
  },
  {
   "cell_type": "code",
   "execution_count": 2,
   "id": "08f5fcf2",
   "metadata": {},
   "outputs": [],
   "source": [
    "### Imports & directory setup"
   ]
  },
  {
   "cell_type": "code",
   "execution_count": 3,
   "id": "2d22f5a4",
   "metadata": {},
   "outputs": [],
   "source": [
    "# 0. Imports & global config\n",
    "import pandas as pd, numpy as np, json, matplotlib.pyplot as plt\n",
    "import warnings, datetime as dt, requests, io, os, re\n",
    "from pathlib import Path\n",
    "warnings.filterwarnings('ignore')\n",
    "\n",
    "RAW  = Path('raw');       RAW.mkdir(exist_ok=True)\n",
    "PROC = Path('processed'); PROC.mkdir(exist_ok=True)"
   ]
  },
  {
   "cell_type": "markdown",
   "id": "edd562d0",
   "metadata": {},
   "source": [
    "### Section 1 – Load raw data"
   ]
  },
  {
   "cell_type": "code",
   "execution_count": null,
   "id": "0b683430",
   "metadata": {},
   "outputs": [
    {
     "ename": "SyntaxError",
     "evalue": "invalid syntax (3869948012.py, line 15)",
     "output_type": "error",
     "traceback": [
      "\u001b[1;36m  Cell \u001b[1;32mIn[6], line 15\u001b[1;36m\u001b[0m\n\u001b[1;33m    cpi=\u001b[0m\n\u001b[1;37m        ^\u001b[0m\n\u001b[1;31mSyntaxError\u001b[0m\u001b[1;31m:\u001b[0m invalid syntax\n"
     ]
    }
   ],
   "source": [
    "# --- 1.1 Index prices -------------------------------------------------\n",
    "\n",
    "midcap_csv = RAW / 'NIFTYMidcap100.csv'   # columns: Date, Close\n",
    "nifty50_csv = RAW / 'Nifty50.csv'           # columns: Date, Close\n",
    "\n",
    "midcap  = pd.read_csv(midcap_csv,  parse_dates=['Date']).sort_values('Date')\n",
    "nifty50 = pd.read_csv(nifty50_csv, parse_dates=['Date']).sort_values('Date')\n",
    "\n",
    "# --- 1.2 Rainfall  --------------------------------------------\n",
    "\n",
    "rain = pd.read_csv(RAW / 'rain_anomaly.csv')\n",
    "\n",
    "\n",
    "# --- 1.3 GDP --------------------------------------------\n",
    "gdp = pd.read_csv(RAW / 'rain_anomaly.csv')\n",
    "\n",
    "# --- 1.4 Consumer Price Index (CPI) --------------------------------------------\n",
    "cpi= pd.read_csv(RAW / 'rain_anomaly.csv')\n",
    "\n",
    "# --- 1.5 Purchasing Managers Index --------------------------------------------\n",
    "pmi= pd.read_csv(RAW / 'rain_anomaly.csv')\n",
    "\n",
    "# --- 1.6 Repo Rate --------------------------------------------\n",
    "repo= pd.read_csv(RAW / 'rain_anomaly.csv')"
   ]
  },
  {
   "cell_type": "markdown",
   "id": "b510081a",
   "metadata": {},
   "source": [
    "### Section 2 – Resample to quarters"
   ]
  },
  {
   "cell_type": "code",
   "execution_count": null,
   "id": "a9969b0a",
   "metadata": {},
   "outputs": [],
   "source": [
    "def daily_to_qtr(df, price_col):\n",
    "    return df.set_index('Date')[price_col].resample('Q').last()\n",
    "\n",
    "midcap_q = daily_to_qtr(midcap,  midcap.columns[1]).pct_change().rename('midcap_ret')\n",
    "nifty_q  = daily_to_qtr(nifty50, nifty50.columns[1]).pct_change().rename('nifty_ret')\n",
    "excess   = (midcap_q - nifty_q).rename('excess_ret')\n",
    "\n",
    "# Rainfall: forward-fill anomaly into four quarters of same FY\n",
    "rain_q = rain.set_index(pd.to_datetime(rain['Year'].astype(str) + '-09-30'))['Anomaly_%']\n",
    "rain_q = rain_q.resample('Q').ffill().rename('rain_anom')\n",
    "\n",
    "# TODO: GDP, CPI, PMI, repo -> load, then resample('Q').last() or .mean()\n"
   ]
  },
  {
   "cell_type": "markdown",
   "id": "469afcbb",
   "metadata": {},
   "source": [
    "### Section 3 – Merge & lag"
   ]
  },
  {
   "cell_type": "code",
   "execution_count": null,
   "id": "59d6f1d9",
   "metadata": {},
   "outputs": [],
   "source": [
    "# Minimal merge (add your macro lags later)\n",
    "series = [\n",
    "    excess,\n",
    "    midcap_q.shift(1).rename('ret_prev_q'),\n",
    "    rain_q.shift(1)                 # rain_anom_lag\n",
    "]\n",
    "\n",
    "# TODO: append gdp_yoy_lag, cpi_yoy_lag, pmi_lag, repo_chg_lag\n",
    "df = pd.concat(series, axis=1).dropna()\n",
    "\n",
    "# Target = next-quarter excess return\n",
    "df['excess_next_q'] = df['excess_ret'].shift(-1)\n",
    "df.dropna(inplace=True)\n",
    "\n",
    "df.to_parquet(PROC / 'quarterly.parquet')\n",
    "print(df.head())\n"
   ]
  },
  {
   "cell_type": "markdown",
   "id": "42952eb8",
   "metadata": {},
   "source": [
    "### Section 4 – Baseline vs Enriched (RQ-1)"
   ]
  },
  {
   "cell_type": "code",
   "execution_count": null,
   "id": "77cced5a",
   "metadata": {},
   "outputs": [],
   "source": [
    "from sklearn.linear_model import ElasticNetCV\n",
    "from sklearn.model_selection import TimeSeriesSplit\n",
    "from sklearn.metrics  import r2_score, mean_absolute_error\n",
    "from lightgbm import LGBMRegressor\n",
    "\n",
    "tscv = TimeSeriesSplit(n_splits=5)\n",
    "X_base = df[['ret_prev_q']]\n",
    "y      = df['excess_next_q']\n",
    "\n",
    "# ----- baseline ElasticNet -----\n",
    "base_pred, base_true = [], []\n",
    "for tr, te in tscv.split(X_base):\n",
    "    mdl = ElasticNetCV(cv=3).fit(X_base.iloc[tr], y.iloc[tr])\n",
    "    base_pred.extend(mdl.predict(X_base.iloc[te]))\n",
    "    base_true.extend(y.iloc[te])\n",
    "\n",
    "print('Baseline  R²:', r2_score(base_true, base_pred),\n",
    "      'MAE:', mean_absolute_error(base_true, base_pred))\n",
    "\n",
    "# ----- enriched LightGBM -----\n",
    "feat_cols = ['ret_prev_q', 'rain_anom']   # extend with macro lags\n",
    "X_en = df[feat_cols]\n",
    "\n",
    "en_pred, en_true = [], []\n",
    "for tr, te in tscv.split(X_en):\n",
    "    gbt = LGBMRegressor(n_estimators=300, learning_rate=0.05, max_depth=3)\n",
    "    gbt.fit(X_en.iloc[tr], y.iloc[tr])\n",
    "    en_pred.extend(gbt.predict(X_en.iloc[te]))\n",
    "    en_true.extend(y.iloc[te])\n",
    "\n",
    "print('Enriched  R²:', r2_score(en_true, en_pred),\n",
    "      'MAE:', mean_absolute_error(en_true, en_pred))\n"
   ]
  },
  {
   "cell_type": "markdown",
   "id": "01cc45b9",
   "metadata": {},
   "source": [
    "### Section 5 – Good vs Poor monsoon (RQ-2)"
   ]
  },
  {
   "cell_type": "code",
   "execution_count": null,
   "id": "9a3156d0",
   "metadata": {},
   "outputs": [],
   "source": [
    "from scipy.stats import ttest_ind, ks_2samp\n",
    "\n",
    "good = df.loc[df['rain_anom'] >= 4,  'excess_next_q']\n",
    "poor = df.loc[df['rain_anom'] <= -4, 'excess_next_q']\n",
    "\n",
    "print('t-test:', ttest_ind(good, poor, equal_var=False))\n",
    "print('KS    :', ks_2samp(good, poor))\n",
    "\n",
    "# Optional boxplot\n",
    "plt.boxplot([good, poor], labels=['Good rain', 'Poor rain'])\n",
    "plt.ylabel('Excess Return next-Q')\n",
    "plt.show()\n"
   ]
  },
  {
   "cell_type": "markdown",
   "id": "63a47156",
   "metadata": {},
   "source": [
    "### Section 6 – Rain → GDP lead-lag (RQ-3) (code stub)"
   ]
  },
  {
   "cell_type": "code",
   "execution_count": null,
   "id": "c01ff6a1",
   "metadata": {},
   "outputs": [],
   "source": [
    "# TODO: after adding 'gdp_yoy' series\n",
    "import statsmodels.api as sm\n",
    "df['gdp_fwd1'] = df['gdp_yoy'].shift(-1)\n",
    "\n",
    "model = sm.OLS(df['gdp_fwd1'].dropna(),\n",
    "               sm.add_constant(df.loc[df['gdp_fwd1'].notna(), 'rain_anom']))\n",
    "res = model.fit()\n",
    "print(res.summary())\n",
    "\n",
    "# Create engineered feature\n",
    "df['gdp_pred_from_rain'] = res.params[0] + res.params[1] * df['rain_anom']"
   ]
  },
  {
   "cell_type": "markdown",
   "id": "3038c3ee",
   "metadata": {},
   "source": [
    "### Section 7 – Rain × Repo interaction (RQ-4) (code stub)"
   ]
  },
  {
   "cell_type": "code",
   "execution_count": null,
   "id": "8005ae82",
   "metadata": {},
   "outputs": [],
   "source": [
    "# TODO: ensure repo_chg_lag present\n",
    "df['rain_repo_int'] = df['rain_anom'] * df['repo_chg_lag']\n",
    "\n",
    "# Simple OLS to test interaction\n",
    "X_int = df[['rain_anom', 'repo_chg_lag', 'rain_repo_int']].dropna()\n",
    "y_int = df.loc[X_int.index, 'excess_next_q']\n",
    "res_int = sm.OLS(y_int, sm.add_constant(X_int)).fit()\n",
    "print(res_int.summary())"
   ]
  },
  {
   "cell_type": "markdown",
   "id": "a329a129",
   "metadata": {},
   "source": [
    "API key for data.gov\n",
    "\n",
    "579b464db66ec23bdd0000018d950c9ec61a4b867ca26369d83a0fe5\n",
    "\n",
    "Request URL:\n",
    "\n",
    "https://api.data.gov.in/resource/8e0bd482-4aba-4d99-9cb9-ff124f6f1c2f?api-key=579b464db66ec23bdd0000018d950c9ec61a4b867ca26369d83a0fe5&format=csv"
   ]
  },
  {
   "cell_type": "markdown",
   "id": "6740b20d",
   "metadata": {},
   "source": []
  }
 ],
 "metadata": {
  "kernelspec": {
   "display_name": "base",
   "language": "python",
   "name": "python3"
  },
  "language_info": {
   "codemirror_mode": {
    "name": "ipython",
    "version": 3
   },
   "file_extension": ".py",
   "mimetype": "text/x-python",
   "name": "python",
   "nbconvert_exporter": "python",
   "pygments_lexer": "ipython3",
   "version": "3.12.7"
  }
 },
 "nbformat": 4,
 "nbformat_minor": 5
}
