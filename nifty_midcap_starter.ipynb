{
 "cells": [
  {
   "cell_type": "markdown",
   "id": "73026098",
   "metadata": {},
   "source": [
    "# NIFTY Midcap 100 – 7‑Day Capstone Starter\n",
    "\n",
    "This notebook collects public macro + weather data, constructs features, and compares a **baseline ElasticNet** model with an **enriched LightGBM** model for 1‑quarter‑ahead excess returns.\n",
    "\n",
    "_Fill in your own file paths where indicated._"
   ]
  },
  {
   "cell_type": "markdown",
   "id": "16ba8ea6",
   "metadata": {},
   "source": [
    "## 0. Imports & setup"
   ]
  },
  {
   "cell_type": "code",
   "execution_count": null,
   "id": "79dc21dd",
   "metadata": {},
   "outputs": [],
   "source": [
    "import pandas as pd, numpy as np, json, warnings, matplotlib.pyplot as plt\n",
    "from pathlib import Path\n",
    "from sklearn.linear_model import ElasticNetCV\n",
    "from sklearn.metrics import r2_score, mean_absolute_error\n",
    "from sklearn.model_selection import TimeSeriesSplit\n",
    "from lightgbm import LGBMRegressor\n",
    "warnings.filterwarnings('ignore')\n",
    "\n",
    "DATA_DIR = Path('data')\n",
    "DATA_DIR.mkdir(exist_ok=True)"
   ]
  },
  {
   "cell_type": "markdown",
   "id": "7c9d3285",
   "metadata": {},
   "source": [
    "## 1. Load raw series"
   ]
  },
  {
   "cell_type": "code",
   "execution_count": null,
   "id": "fcfd5ddb",
   "metadata": {},
   "outputs": [],
   "source": [
    "# TODO: Replace the placeholder CSV paths with your own\n",
    "nifty = pd.read_csv('path_to_nifty_midcap_total_return.csv', parse_dates=['date'])\n",
    "gdp   = pd.read_csv('path_to_gdp_yoy.csv', parse_dates=['date'])\n",
    "cpi   = pd.read_csv('path_to_cpi_yoy.csv', parse_dates=['date'])\n",
    "pmi   = pd.read_csv('path_to_pmi.csv', parse_dates=['date'])\n",
    "repo  = pd.read_csv('path_to_repo_change.csv', parse_dates=['date'])\n",
    "rain  = pd.read_csv('path_to_rainfall_anomaly.csv', parse_dates=['date'])"
   ]
  },
  {
   "cell_type": "markdown",
   "id": "a9de93fe",
   "metadata": {},
   "source": [
    "## 2. Resample to quarterly & merge"
   ]
  },
  {
   "cell_type": "code",
   "execution_count": null,
   "id": "4f870c8f",
   "metadata": {},
   "outputs": [],
   "source": [
    "def to_q(df, col):\n",
    "    return df.set_index('date')[col].resample('Q').last()\n",
    "\n",
    "df = pd.DataFrame({\n",
    "    'nifty_tr': to_q(nifty, nifty.columns[1]),\n",
    "    'gdp_yoy':  to_q(gdp, gdp.columns[1]),\n",
    "    'cpi_yoy':  to_q(cpi, cpi.columns[1]),\n",
    "    'pmi':      to_q(pmi, pmi.columns[1]),\n",
    "    'repo_chg': to_q(repo, repo.columns[1]),\n",
    "    'rain_anom':to_q(rain, rain.columns[1]).ffill()\n",
    "}).dropna()\n",
    "\n",
    "df['ret_prev_q'] = df['nifty_tr'].pct_change()\n",
    "df['ret_next_q'] = df['ret_prev_q'].shift(-1)\n",
    "for col in ['gdp_yoy','cpi_yoy','pmi','repo_chg','rain_anom']:\n",
    "    df[f'{col}_lag'] = df[col].shift(1)\n",
    "\n",
    "df = df.dropna()\n",
    "df.head()"
   ]
  },
  {
   "cell_type": "markdown",
   "id": "e4b0054b",
   "metadata": {},
   "source": [
    "## 3. Baseline ElasticNet (lagged return only)"
   ]
  },
  {
   "cell_type": "code",
   "execution_count": null,
   "id": "0c3ddc21",
   "metadata": {},
   "outputs": [],
   "source": [
    "X_base = df[['ret_prev_q']]\n",
    "y = df['ret_next_q']\n",
    "tscv = TimeSeriesSplit(n_splits=5)\n",
    "preds_base, true_base = [], []\n",
    "for train, test in tscv.split(X_base):\n",
    "    model = ElasticNetCV(cv=3)\n",
    "    model.fit(X_base.iloc[train], y.iloc[train])\n",
    "    preds_base.extend(model.predict(X_base.iloc[test]))\n",
    "    true_base.extend(y.iloc[test])\n",
    "r2_base = r2_score(true_base, preds_base)\n",
    "mae_base = mean_absolute_error(true_base, preds_base)\n",
    "print('Baseline R2', r2_base, 'MAE', mae_base)"
   ]
  },
  {
   "cell_type": "markdown",
   "id": "852339ad",
   "metadata": {},
   "source": [
    "## 4. Enriched LightGBM (macro + rain)"
   ]
  },
  {
   "cell_type": "code",
   "execution_count": null,
   "id": "ae30bb57",
   "metadata": {},
   "outputs": [],
   "source": [
    "feat_cols = ['ret_prev_q','gdp_yoy_lag','cpi_yoy_lag','pmi_lag','repo_chg_lag','rain_anom_lag']\n",
    "X_en = df[feat_cols]\n",
    "preds_en, true_en = [], []\n",
    "for train, test in tscv.split(X_en):\n",
    "    mdl = LGBMRegressor(n_estimators=300, learning_rate=0.05)\n",
    "    mdl.fit(X_en.iloc[train], y.iloc[train])\n",
    "    preds_en.extend(mdl.predict(X_en.iloc[test]))\n",
    "    true_en.extend(y.iloc[test])\n",
    "r2_en = r2_score(true_en, preds_en)\n",
    "mae_en = mean_absolute_error(true_en, preds_en)\n",
    "print('Enriched R2', r2_en, 'MAE', mae_en)\n",
    "\n",
    "metrics = {'baseline': {'r2': r2_base, 'mae': mae_base},\n",
    "           'enriched': {'r2': r2_en,  'mae': mae_en}}\n",
    "Path('data/metrics.json').write_text(json.dumps(metrics, indent=2))"
   ]
  }
 ],
 "metadata": {},
 "nbformat": 4,
 "nbformat_minor": 5
}